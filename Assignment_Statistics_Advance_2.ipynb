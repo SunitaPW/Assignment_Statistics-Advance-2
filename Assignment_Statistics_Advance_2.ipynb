{
  "nbformat": 4,
  "nbformat_minor": 0,
  "metadata": {
    "colab": {
      "provenance": []
    },
    "kernelspec": {
      "name": "python3",
      "display_name": "Python 3"
    },
    "language_info": {
      "name": "python"
    }
  },
  "cells": [
    {
      "cell_type": "markdown",
      "source": [
        "# **Assignment : Statistics Advance-2**\n",
        "\n",
        "\n"
      ],
      "metadata": {
        "id": "-h1Bt0aBYGtx"
      }
    },
    {
      "cell_type": "markdown",
      "source": [
        "## Question 1 :- Define the z-statistic and explain its relationship to the standard normal distribution. How is the z-statistic used in hypothesis testing?"
      ],
      "metadata": {
        "id": "atIMz_OjBKSL"
      }
    },
    {
      "cell_type": "markdown",
      "source": [
        "# Answer 1 :-\n",
        "\n",
        "- **z-statistic :-** The z-statistic is a measure that tells us how many standard deviations away from the mean a data point is. It's closely tied to the standard normal distribution, which is that bell-shaped curve centered at zero.\n",
        "\n",
        "  Basically, the z-statistic helps us compare different data points by putting them on the same scale. To calculate it, you take a value, subtract the mean, and divide by the standard deviation. This gives you a number that shows where that value sits relative to the average.\n",
        "\n",
        "- **The z-statistic is directly related to the standard normal distribution, which is a special case of the normal distribution with a mean of 0 and a standard deviation of 1. When you convert a raw score to a z-score, you are essentially transforming your data to fit this standard normal distribution, allowing for easier comparison across different datasets.**\n",
        "\n",
        "\n",
        "- **The z-statistic is great for large sample sizes, but for smaller samples, we often use the t-statistic instead. But the basic idea is similar - it's all about quantifying how extreme our results are compared to what we'd expect by chance.**\n",
        "\n",
        "\n",
        "- **When it comes to hypothesis testing :-** the z-statistic is super useful. It lets us figure out how likely or unlikely our sample results are, assuming the null hypothesis is true. We compare our calculated z-statistic to critical values from the standard normal distribution to decide whether to reject the null hypothesis or not.\n",
        "\n",
        "\n",
        "- **For example :-** if we're testing whether a sample mean is significantly different from a population mean, we'd calculate a z-statistic based on the difference between these means. If it's bigger than the critical value (like 1.96 for a 5% significance level), we'd reject the null hypothesis and say there's a significant difference.\n",
        "\n",
        "\n"
      ],
      "metadata": {
        "id": "jvnMZqgoYGw1"
      }
    },
    {
      "cell_type": "markdown",
      "source": [
        "## Question 2 :- What is a p-value, and how is it used in hypothesis testing? What does it mean if the p-value is very small (e.g., 0.01)?"
      ],
      "metadata": {
        "id": "fEwMP5oZBP1J"
      }
    },
    {
      "cell_type": "markdown",
      "source": [
        "# Answer 2 :-\n",
        "\n",
        "- **A p-value (probability value) is a measure that helps determine the significance of your results in the context of hypothesis testing. Specifically, it quantifies the probability of obtaining results at least as extreme as those observed, assuming that the null hypothesis (H0) is true.**\n",
        "\n",
        "- **In hypothesis testing, we use p-values to decide whether to reject the null hypothesis or not. We compare the p-value to our significance level (usually 0.05) to make this call. If the p-value is smaller than the significance level, we reject the null hypothesis.**\n",
        "\n",
        "- **When the p-value is very small,** such as (0.01), it indicates strong evidence against the null hypothesis. This means that there is only a 1% probability of observing the data (or something more extreme) if the null hypothesis were true. Therefore, a p-value of 0.01 suggests that the observed results are statistically significant and that there is strong support for the alternative hypothesis (H1).\n",
        "\n",
        "- **p-values are just one tool in our statistical toolbox. They're useful, but they're not the be-all and end-all of statistical analysis. It's always good to look at the bigger picture and use multiple approaches when analyzing data.**"
      ],
      "metadata": {
        "id": "HEk08OIMYGzz"
      }
    },
    {
      "cell_type": "markdown",
      "source": [
        "## Question 3 :- Compare and contrast the binomial and Bernoulli distributions."
      ],
      "metadata": {
        "id": "glVMmBbEBY9s"
      }
    },
    {
      "cell_type": "markdown",
      "source": [
        "# Answer 3 :-\n",
        "\n",
        "\n",
        "### The Bernoulli distribution and the Binomial distribution are closely related but serve different purposes in probability and statistics. below are comparison of the two :-\n",
        "\n",
        "#### **Bernoulli Distribution :-**\n",
        "\n",
        "- The Bernoulli distribution models a single trial with two possible outcomes: success (usually coded as 1) and failure (coded as 0).\n",
        "\n",
        "- The support of a Bernoulli distribution is limited to two outcomes (0, 1).\n",
        "\n",
        "- Each trial should be independent.\n",
        "\n",
        "- Probability of each output should be same in every trail.\n",
        "\n",
        "- It has one parameter, p, which represents the probability of success. Therefore, the probability of failure is 1-p.\n",
        "\n",
        "- Example :- Tossing a Coin, Pass/Fail, Getting Six or not, Win/Loose etc.\n",
        "\n",
        "\n",
        "#### **Binomial Distribution :-**\n",
        "\n",
        "- The binomial distribution extends the Bernoulli distribution to multiple trials. It models the number of successes in n independent Bernoulli trials.\n",
        "\n",
        "- It is a common probability distribution that models the probability of obtaining one of two outcomes under a given number of parameters.\n",
        "\n",
        "- It has two parameters :- n (the number of trials) and p (the probability of success in each trial).\n",
        "\n",
        "- The support of a binomial distribution is the set of integers from 0 to\n",
        "n (i.e., {0, 1, 2, ..., n}).\n",
        "\n",
        "\n",
        "### Main Difference :-\n",
        "\n",
        "- **Number of Trials :-** The Bernoulli distribution deals with one trial, while the binomial distribution deals with multiple trials.\n",
        "\n",
        "- **Parameters :-** The Bernoulli distribution has one parameter (p), whereas the binomial distribution has two parameters (n and p).\n",
        "\n",
        "- **Outcomes :-** Bernoulli has two outcomes (0 or 1), while binomial can yield multiple outcomes depending on the number of trials.\n",
        "\n",
        "\n",
        "\n"
      ],
      "metadata": {
        "id": "JOzfeoRkYG2g"
      }
    },
    {
      "cell_type": "markdown",
      "source": [
        "## Question 4 :- Under what conditions is the binomial distribution used, and how does it relate to the Bernoulli distribution?"
      ],
      "metadata": {
        "id": "c8gowtLfBd67"
      }
    },
    {
      "cell_type": "markdown",
      "source": [
        "# Answer 4 :-\n",
        "\n",
        "### Conditions under the binomial distribution used is mention below in points :-\n",
        "\n",
        "- **Fixed Number of Trials :-** The number of trials (n), must be fixed in advance. Each trial is an independent event.\n",
        "  \n",
        "- **Two Possible Outcomes :-** Each trial results in one of two outcomes, commonly termed \"success\" (usually denoted as 1) and \"failure\" (denoted as 0).\n",
        "\n",
        "- **Constant Probability :-** The probability of success, (p), must remain constant for each trial. Consequently, the probability of failure is 1-p.\n",
        "\n",
        "- **Independence Trails :-** The trials must be independent of one another, meaning the outcome of one trial does not affect the outcomes of the others.\n",
        "\n",
        "\n",
        "### **Relation to the Bernoulli distribution are mention below :-** The binomial distribution is closely related to the Bernoulli distribution in that it can be viewed as a series of Bernoulli trials:\n",
        "\n",
        "- **Single Trial :-** A Bernoulli distribution models a single trial with two outcomes. In this context, a Bernoulli trial can be thought of as the basic building block of the binomial distribution.\n",
        "\n",
        "- **Multiple Trials :-** When you conduct (n) independent Bernoulli trials (each with the same probability (p) of success), you can aggregate the results to form a binomial distribution. The binomial distribution counts the number of successes across these (n) Bernoulli trials.\n",
        "\n",
        "\n",
        "#### The Binomial Distribution extends the concept of the Bernoulli distribution to multiple trials, capturing the probability of obtaining a certain number of successes. Understanding this relationship helps in modeling real-world scenarios where outcomes can be binary, e.g: quality control testing, clinical trials, or survey responses."
      ],
      "metadata": {
        "id": "v5po58gkYG5c"
      }
    },
    {
      "cell_type": "markdown",
      "source": [
        "## Question 5 :- What are the key properties of the Poisson distribution, and when is it appropriate to use this distribution?"
      ],
      "metadata": {
        "id": "OmUn-n8sBjVE"
      }
    },
    {
      "cell_type": "markdown",
      "source": [
        "# Answer 5 :-\n",
        "\n",
        "\n",
        "### **Poission Distribution :-**\n",
        "\n",
        "- The Poisson distribution is a discrete probability distribution that models the number of events occurring within a fixed interval of time or space. It is particularly useful for events that occur independently and sporadically.\n",
        "\n",
        "- Number of event occuring in a fixed given interval.\n",
        "\n",
        "\n",
        "### **The Key Properties of the Poisson Distribution are mentioned below :-**\n",
        "\n",
        "- **Discrete Distribution :-** The Poisson distribution describes the probability of a given number of events happening in a specific interval. The outcomes are non-negative integers (0, 1, 2, ...).\n",
        "\n",
        "\n",
        "- **Parameter (Lambda) :-** The distribution is characterized by a single parameter(lambda), which represents the average number of events in the\n",
        "interval. The mean and variance of a Poisson distribution are both equal to (lambda).\n",
        "\n",
        "- **Independence :-** Events occur independently; the occurrence of one event does not affect the probability of another event occurring.\n",
        "\n",
        "- **Memoryless Property :-** The Poisson process has a memoryless property, meaning that the probability of an event happening doesn't depend on when the last event happened.\n",
        "\n",
        "\n",
        "### **When to Use the Poisson Distribution :-**\n",
        "\n",
        "- The analysis should be confined to a specific interval of time or space.\n",
        "\n",
        "- The average rate of the event happening is constant.\n",
        "\n",
        "- Events happen independently of each other.\n",
        "\n",
        "- The probability of two events happening at exactly the same time is basically zero.\n",
        "\n",
        "#### There are some real-world examples where the Poisson distribution fits well :-\n",
        "\n",
        "- Number of calls received by a call center in an hour.\n",
        "\n",
        "- Number of people's visting Temples/Hospitals/Banks/Airports in an hour.\n",
        "\n",
        "- Number of emails received every hour and so on.\n",
        "\n",
        "\n",
        "##### The Poisson distribution is a powerful tool for modeling count data for events that occur independently at a constant average rate. It is widely used in fields such as telecommunications, traffic engineering, and epidemiology, where understanding the frequency of events over a specified period or area is essential."
      ],
      "metadata": {
        "id": "caIEmygbYG8P"
      }
    },
    {
      "cell_type": "markdown",
      "source": [
        "## Question 6 :- Define the terms \"probability distribution\" and \"probability density function\" (PDF). How does a PDF differ from a probability mass function (PMF) ?"
      ],
      "metadata": {
        "id": "-5fWzMcjBpUc"
      }
    },
    {
      "cell_type": "markdown",
      "source": [
        "# Answer 6 :-\n",
        "\n",
        "\n",
        "### **Probability Distribution :-**\n",
        "\n",
        "- **A probability distribution describes how the probabilities of a random variable are distributed across its possible values. It provides a complete description of the likelihood of different outcomes of a random variable, whether it's discrete or continuous.**\n",
        "\n",
        "- **There are two main types of Probability Distributions :-**\n",
        "\n",
        "- - **1) Discrete Probability Distribution :-** For discrete random variables, it lists the probabilities of each possible outcome. Common examples include the binomial and Poisson distributions.\n",
        "\n",
        "- - **2) Continuous Probability Distribution :-** For continuous random variables, it describes the probabilities of outcomes in terms of intervals rather than specific values. Common examples include the normal and exponential distributions.\n",
        "\n",
        "\n",
        "### **Probability Density Function (PDF) :-**\n",
        "\n",
        "- A probability density function (PDF) is a function used in continuous probability distributions. It describes the relative likelihood of a random variable taking on a particular value.\n",
        "\n",
        "\n",
        "### **Probability Mass Function (PMF) :-**\n",
        "\n",
        "- A probability mass function (PMF) is a function used for discrete random variables. It gives the probability of each possible value of the random variable.\n",
        "\n",
        "\n",
        "### **Herea are some points how do PDFs and PMFs differ :-**\n",
        "\n",
        "- **Type of distribution :-** PDFs are for continuous distributions, PMFs are for discrete distributions.\n",
        "\n",
        "- **What they represent :-** PDFs show relative likelihood, PMFs show actual probabilities.\n",
        "\n",
        "- **Finding probabilities :-** With PMFs, you can directly read off the probability of a specific outcome. With PDFs, you have to integrate over a range to get a probability.\n",
        "\n",
        "- **Shape :-** PMFs are often represented as bar graphs or points, while PDFs are smooth curves.\n",
        "\n",
        "- **Units :-** PMFs are unitless (they're just probabilities), but PDFs have units of probability per unit of the random variable.\n",
        "\n",
        "- **Value range :-** PMF values are always between 0 and 1. PDF values can be greater than 1, as long as the total area under the curve is 1."
      ],
      "metadata": {
        "id": "91nr89bjYG-_"
      }
    },
    {
      "cell_type": "markdown",
      "source": [
        "## Question 7 :- Explain the Central Limit Theorem (CLT) with an example."
      ],
      "metadata": {
        "id": "V6bf06xgBwZ-"
      }
    },
    {
      "cell_type": "markdown",
      "source": [
        "# Answer 7 :-\n",
        "\n",
        "\n",
        "### **Central Limit Theorem (CLT) :-**\n",
        "\n",
        "- The Central Limit Theorem (CLT) state that if you have a population with a \"mean\" and \"standard deviation\" and take sufficiently large number of random samples from the population with replacement, then the distribution of sample \"means\" will be approximately normal distributed.\n",
        "\n",
        "- The random variables should be independent of one another.\n",
        "\n",
        "- The variables should be drawn from the same distribution.\n",
        "\n",
        "- Generally, the sample size of \"n\" should be greater than >= 30 (except the population distribution which is already a normal distribution).\n",
        "\n",
        "- The Central Limit Theorem is powerful because it allows statisticians to make inferences about population parameters using sample means, relying on the normal distribution even when the underlying population is not normally distributed. This is why the CLT is considered a cornerstone of inferential statistics.\n",
        "\n",
        "\n",
        "### **Example :-**\n",
        "\n",
        "- Let's say we want to understand the average time it takes for students to complete a math test at a school :-\n",
        "\n",
        "- - Population Distribution :- The completion times of students are not normally distributed. For example, the times might be skewed, with most students finishing quickly and a few taking a lot longer. Let's assume the average time is 30 minutes with a standard deviation of 10 minutes.\n",
        "\n",
        "- - Sampling :- We randomly select groups of 30 students and record their completion times. We do this several times, creating multiple samples.\n",
        "\n",
        "- - Calculate Sample Means :- For each sample of 30 students, we calculate the average completion time. This gives us a set of sample means.\n",
        "\n",
        "- - Distribution of Sample Means :- According to the CLT, if we plot the distribution of these sample means, as we increase the number of samples, the shape of this distribution will approach a normal distribution, regardless of the original skewed distribution of individual times.\n",
        "\n",
        "- - Results :-\n",
        "\n",
        "- - - The mean of the sample means will be approximately 30 minutes (the same as the population mean).\n",
        "- - - The standard deviation of the sample means (standard error) will be 10/root 30 = 1.83 minute\n",
        "\n",
        "\n",
        "\n"
      ],
      "metadata": {
        "id": "SF25t23fYHBf"
      }
    },
    {
      "cell_type": "markdown",
      "source": [
        "## Question 8 :- Compare z-scores and t-scores. When should you use a z-score, and when should a t-score be applied instead?"
      ],
      "metadata": {
        "id": "7104rJ5jB5rL"
      }
    },
    {
      "cell_type": "markdown",
      "source": [
        "# Answer 8 :-\n",
        "\n",
        "## \"z-scores\" and \"t-scores\" are both standardized scores used to determine how far a data point is from the mean, measured in terms of standard deviations. However they have different applications and used context.\n",
        "\n",
        "\n",
        "### **\"z-scores\" :-**\n",
        "\n",
        "- A z-score indicates how many standard deviations a particular score is from the mean of the population.\n",
        "\n",
        "- It calculated using the formula :- z-score = X(raw source) - mean(the population mean) / standard deviation\n",
        "\n",
        "- z-scores assumes the underlying distribution is normal; the z-distribution is standard normal.\n",
        "\n",
        "- z-scores generally used for larger samples.\n",
        "\n",
        "\n",
        "#### **When to Use z-scores :-**\n",
        "\n",
        "- Use a z-score when the population standard deviation is known.\n",
        "\n",
        "- Typically applied in larger sample sizes (n) >= 30, due to the Central Limit Theorem.\n",
        "\n",
        "- Appropriate when the underlying distribution of the data is normal or approximately normal.\n",
        "\n",
        "\n",
        "\n",
        "### **\"t-scores\" :-**\n",
        "\n",
        "- A t-score is similar to a z-score but is used when the population standard deviation is unknown.\n",
        "\n",
        "- t-scores utilizes the t-distribution, which has thicker tails and adjusts for sample size, becoming closer to the normal distribution as sample size increases.\n",
        "\n",
        "- t-scores is used for smaller samples.\n",
        "\n",
        "#### **When to Use t-scores :-**\n",
        "\n",
        "- Use a t-score when the population standard deviation is unknown and you have to estimate it from the sample.\n",
        "\n",
        "- Typically applied in smaller sample sizes (n) < 30.\n",
        "\n",
        "- More appropriate for data that may not be normally distributed, especially with smaller samples.\n",
        "\n",
        "\n",
        "### So use \"z-scores\" when the population standard deviation is known and the sample size is large. In contrast, use \"t-scores\" when the population standard deviation is unknown, especially for smaller samples."
      ],
      "metadata": {
        "id": "UpECYkdcYHEC"
      }
    },
    {
      "cell_type": "markdown",
      "source": [
        "## Question 9 :- Given a sample mean of 105, a population mean of 100, a standard deviation of 15, and a sample size of 25, calculate the z-score and p-value. Based on a significance level of 0.05, do you reject or fail to reject the null hypothesis?\n",
        "\n",
        "- Task :- Write Python code to calculate the z-score and p-value for the given data.\n",
        "\n",
        "- Objective :- Apply the formula for the z-score and interpret the p-value for hypothesis testing.\n",
        "\n",
        "\n",
        "\n"
      ],
      "metadata": {
        "id": "2SMUVeR-B-mw"
      }
    },
    {
      "cell_type": "markdown",
      "source": [
        "# Answer 9 :-\n",
        "\n",
        "### Here,\n",
        "- sample mean = 105,\n",
        "- population mean = 100,\n",
        "- standard deviation = 15,\n",
        "- sample size = 25\n",
        "\n",
        "\n",
        "#### We'll use Python to calculate the z-score and p-value for this need to import scipy.stats library, and then interpret the results in below code :-\n",
        "\n",
        "\n",
        "#### Interpretation of the code :- this means that while our sample mean is higher than the population mean, the difference isn't statistically significant at the 0.05 level. There's about a 9.56% chance we'd see a difference this large or larger just by random chance, even if there was no real difference in the population.\n"
      ],
      "metadata": {
        "id": "J9mvtmLQYHGu"
      }
    },
    {
      "cell_type": "code",
      "source": [
        "# Here 1st import stats this will used to calculate p-value :-\n",
        "import scipy.stats as stats\n",
        "\n",
        "# Given values in the question :-\n",
        "sample_mean = 105\n",
        "population_mean = 100\n",
        "std_dev = 15\n",
        "sample_size = 25\n",
        "\n",
        "\n",
        "## Python code to calculate the z-score and p-value for the given data :-\n",
        "\n",
        "# Now here we are calculating z-score using z-score formula :-\n",
        "z_score = (sample_mean - population_mean) / (std_dev / (sample_size ** 0.5))\n",
        "\n",
        "\n",
        "# Here calculating p-value (probability value) by using the cumulative distribution function (CDF) of the standard normal distribution.\n",
        "# We use a two-tailed test, so we multiply by 2.\n",
        "p_value = 2 * (1 - stats.norm.cdf(abs(z_score)))\n",
        "\n",
        "\n",
        "# Given statement to print :-\n",
        "print(f\"Z-score: {z_score:.4f}\")\n",
        "print(f\"P-value: {p_value:.4f}\")\n",
        "\n",
        "\n",
        "## Applied the formula for the z-score and interpret the p-value for hypothesis testing :-\n",
        "\n",
        "# Check if we reject the null hypothesis ---> Finally, we compare the p-value to our significance level (alpha) of 0.05 :-\n",
        "alpha = 0.05\n",
        "if p_value < alpha:\n",
        "    print(\"Reject the null hypothesis\")\n",
        "else:\n",
        "    print(\"Fail to reject the null hypothesis\")\n"
      ],
      "metadata": {
        "colab": {
          "base_uri": "https://localhost:8080/"
        },
        "id": "j0_6Ma_5223u",
        "outputId": "05322ff1-0091-4465-946a-6924045a758b"
      },
      "execution_count": 1,
      "outputs": [
        {
          "output_type": "stream",
          "name": "stdout",
          "text": [
            "Z-score: 1.6667\n",
            "P-value: 0.0956\n",
            "Fail to reject the null hypothesis\n"
          ]
        }
      ]
    },
    {
      "cell_type": "markdown",
      "source": [
        "## Question 10 :- Simulate a binomial distribution with 10 trials and a probability of success of 0.6 using Python. Generate 1,000 samples and plot the distribution. What is the expected mean and variance?\n",
        "\n",
        "- Task :- Use Python to generate the data, plot the distribution, and calculate the mean and variance.\n",
        "\n",
        "- Objective :- Understand the properties of a binomial distribution and verify them through simulation.\n",
        "\n",
        "\n",
        "\n"
      ],
      "metadata": {
        "id": "l_dKsRTgCKs-"
      }
    },
    {
      "cell_type": "markdown",
      "source": [
        "# Answer 10 :-\n",
        "\n",
        "\n",
        "### To simulate a binomial distribution with 10 trials and a probability of success of 0.6, we can use Python to generate 1,000 samples, plot the distribution, and calculate the mean and variance. Below is the complete code :-\n",
        "\n",
        "- Here,\n",
        "\n",
        "- - Binomial distribution \"n\" trials = 10\n",
        "- - Probability of success = 0.6\n",
        "- - Number of samples = 1000\n",
        "\n",
        "\n",
        "### The Properties of a Binomial Distribution with below points :-\n",
        "\n",
        "- **A binomial distribution models the number of successes in a fixed number of independent Bernoulli trials (each trial has two possible outcomes: success or failure).**\n",
        "\n",
        "- **Parameters :-** It is characterized by two parameters :-\n",
        "\n",
        "- - 1) n: the number of trials.\n",
        "\n",
        "- - 2) p: the probability of success in each trial.\n",
        "\n",
        "- **Mean and Variance :-**\n",
        "- - Mean: mean = n * p ---> (number of trails * probability of success in each trial)\n",
        "\n",
        "- - Variance: variance = n * p * (1-p) ---> number of trails * probability of success in each trial * (1 - probability of success in each trial)\n",
        "\n",
        "- **Shape :-** The shape of the binomial distribution can vary based on the values of (n and p). For example, with small (n and p) close to 0.5, it resembles a normal distribution.\n",
        "\n",
        "\n",
        "### Verifying properties through simulation with the below mentioned points :-\n",
        "\n",
        "- **Simulation :-** By generating multiple samples from a binomial distribution, you can empirically observe how the sample mean and variance compare to the theoretical values.\n",
        "\n",
        "- **Visualization :-** Plotting the histogram of the simulated data helps visualize the distribution, showing how closely it resembles the expected binomial shape.\n",
        "\n",
        "- **Results Comparison :-** By calculating the mean and variance of the simulated samples, you can compare them against the expected mean and variance to see how well the simulation aligns with theoretical predictions."
      ],
      "metadata": {
        "id": "GzDwc8K3YHJq"
      }
    },
    {
      "cell_type": "code",
      "source": [
        "# Import the important library :-\n",
        "import numpy as np\n",
        "import matplotlib.pyplot as plt\n",
        "import seaborn as sns\n",
        "from scipy.stats import binom\n",
        "\n",
        "# Parameters for the binomial distribution which is given in question :-\n",
        "n_trials = 10\n",
        "p_success = 0.6\n",
        "n_samples = 1000\n",
        "\n",
        "\n",
        "# Simulate binomial distribution ----->\n",
        "# This code uses np.random.binomial() to generate 1,000 samples from the specified binomial distribution :-\n",
        "samples = np.random.binomial(n_trials, p_success, n_samples)\n",
        "\n",
        "\n",
        "# Here we calculate the mean and variance :-\n",
        "mean = np.mean(samples)\n",
        "variance = np.var(samples)\n",
        "\n",
        "\n",
        "# Here we calculate expected mean and variance for a binomial distribution :-\n",
        "expected_mean = n_trials * p_success\n",
        "expected_variance = n_trials * p_success * (1 - p_success)\n",
        "\n",
        "\n",
        "# This is the histogram Plot distribution with title, xlabel, ylabel and so on :-\n",
        "plt.figure(figsize=(10, 6))\n",
        "sns.histplot(samples, bins=np.arange(-0.5, n_trials + 1.5, 1), kde=False, stat='density')\n",
        "plt.title('Binomial Distribution (n=10, p=0.6)')\n",
        "plt.xlabel('Number of Successes')\n",
        "plt.ylabel('Density')\n",
        "plt.xticks(np.arange(n_trials + 1))\n",
        "plt.xlim(-0.5, n_trials + 0.5)\n",
        "plt.grid(axis='y')\n",
        "plt.show()\n",
        "\n",
        "# Print the result and calculated and expected mean and variance :-\n",
        "print(f\"Calculated the Mean: {mean:.2f}\")\n",
        "print(f\"Calculated the Variance: {variance:.2f}\")\n",
        "print(f\"The Expected Mean: {expected_mean:.2f}\")\n",
        "print(f\"The Expected Variance: {expected_variance:.2f}\")\n"
      ],
      "metadata": {
        "colab": {
          "base_uri": "https://localhost:8080/",
          "height": 633
        },
        "id": "r8hOzgLK7H5m",
        "outputId": "137b1750-7eee-4b27-ee8e-b9682770ed3c"
      },
      "execution_count": 3,
      "outputs": [
        {
          "output_type": "display_data",
          "data": {
            "text/plain": [
              "<Figure size 1000x600 with 1 Axes>"
            ],
            "image/png": "[encoded data removed]"
          },
          "metadata": {}
        },
        {
          "output_type": "stream",
          "name": "stdout",
          "text": [
            "Calculated the Mean: 5.93\n",
            "Calculated the Variance: 2.56\n",
            "The Expected Mean: 6.00\n",
            "The Expected Variance: 2.40\n"
          ]
        }
      ]
    }
  ]
}